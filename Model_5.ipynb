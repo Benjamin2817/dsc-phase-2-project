{
 "cells": [
  {
   "cell_type": "code",
   "execution_count": 1,
   "metadata": {},
   "outputs": [],
   "source": [
    "from sklearn.linear_model import LinearRegression\n",
    "from sklearn.metrics import mean_squared_error\n",
    "from sklearn.model_selection import train_test_split\n",
    "from statsmodels.formula.api import ols\n",
    "\n",
    "import matplotlib.pyplot as plt\n",
    "import numpy as np\n",
    "import pandas as pd\n",
    "import scipy.stats as stats\n",
    "# import seaborn as sns\n",
    "import statsmodels.api as sm"
   ]
  },
  {
   "cell_type": "code",
   "execution_count": 2,
   "metadata": {},
   "outputs": [],
   "source": [
    "model_5_data = pd.read_csv('data/model_3_data.csv')"
   ]
  },
  {
   "cell_type": "code",
   "execution_count": 3,
   "metadata": {},
   "outputs": [],
   "source": [
    "this = model_5_data.price.map(lambda x: np.log(x))"
   ]
  },
  {
   "cell_type": "code",
   "execution_count": 4,
   "metadata": {},
   "outputs": [
    {
     "data": {
      "text/plain": [
       "0        12.309982\n",
       "1        13.195614\n",
       "2        12.100712\n",
       "3        13.311329\n",
       "4        13.142166\n",
       "           ...    \n",
       "17986    13.825461\n",
       "17987    13.071070\n",
       "17988    12.793859\n",
       "17989    12.899220\n",
       "17990    12.899220\n",
       "Name: price, Length: 17991, dtype: float64"
      ]
     },
     "execution_count": 4,
     "metadata": {},
     "output_type": "execute_result"
    }
   ],
   "source": [
    "this"
   ]
  },
  {
   "cell_type": "code",
   "execution_count": 5,
   "metadata": {},
   "outputs": [],
   "source": [
    "that = np.log(model_5_data.price)"
   ]
  },
  {
   "cell_type": "code",
   "execution_count": 7,
   "metadata": {},
   "outputs": [],
   "source": [
    "target_variable = 'price'\n",
    "input_variables = model_5_data.drop('price', axis=1).columns\n",
    "formula = target_variable + '~' + '+'.join(input_variables)"
   ]
  },
  {
   "cell_type": "code",
   "execution_count": 8,
   "metadata": {},
   "outputs": [
    {
     "data": {
      "text/html": [
       "<table class=\"simpletable\">\n",
       "<caption>OLS Regression Results</caption>\n",
       "<tr>\n",
       "  <th>Dep. Variable:</th>          <td>price</td>      <th>  R-squared:         </th>  <td>   0.691</td>  \n",
       "</tr>\n",
       "<tr>\n",
       "  <th>Model:</th>                   <td>OLS</td>       <th>  Adj. R-squared:    </th>  <td>   0.691</td>  \n",
       "</tr>\n",
       "<tr>\n",
       "  <th>Method:</th>             <td>Least Squares</td>  <th>  F-statistic:       </th>  <td>   1005.</td>  \n",
       "</tr>\n",
       "<tr>\n",
       "  <th>Date:</th>             <td>Mon, 20 Sep 2021</td> <th>  Prob (F-statistic):</th>   <td>  0.00</td>   \n",
       "</tr>\n",
       "<tr>\n",
       "  <th>Time:</th>                 <td>15:18:17</td>     <th>  Log-Likelihood:    </th> <td>-2.3496e+05</td>\n",
       "</tr>\n",
       "<tr>\n",
       "  <th>No. Observations:</th>      <td> 17991</td>      <th>  AIC:               </th>  <td>4.700e+05</td> \n",
       "</tr>\n",
       "<tr>\n",
       "  <th>Df Residuals:</th>          <td> 17950</td>      <th>  BIC:               </th>  <td>4.703e+05</td> \n",
       "</tr>\n",
       "<tr>\n",
       "  <th>Df Model:</th>              <td>    40</td>      <th>                     </th>      <td> </td>     \n",
       "</tr>\n",
       "<tr>\n",
       "  <th>Covariance Type:</th>      <td>nonrobust</td>    <th>                     </th>      <td> </td>     \n",
       "</tr>\n",
       "</table>\n",
       "<table class=\"simpletable\">\n",
       "<tr>\n",
       "           <td></td>              <th>coef</th>     <th>std err</th>      <th>t</th>      <th>P>|t|</th>  <th>[0.025</th>    <th>0.975]</th>  \n",
       "</tr>\n",
       "<tr>\n",
       "  <th>Intercept</th>           <td> 2.168e+05</td> <td>  2.7e+04</td> <td>    8.042</td> <td> 0.000</td> <td> 1.64e+05</td> <td>  2.7e+05</td>\n",
       "</tr>\n",
       "<tr>\n",
       "  <th>sqft_living</th>         <td>  127.6279</td> <td>    2.127</td> <td>   60.008</td> <td> 0.000</td> <td>  123.459</td> <td>  131.797</td>\n",
       "</tr>\n",
       "<tr>\n",
       "  <th>sqft_lot</th>            <td>   -2.7687</td> <td>    0.339</td> <td>   -8.157</td> <td> 0.000</td> <td>   -3.434</td> <td>   -2.103</td>\n",
       "</tr>\n",
       "<tr>\n",
       "  <th>waterfront</th>          <td> 9.884e+04</td> <td> 2.07e+04</td> <td>    4.772</td> <td> 0.000</td> <td> 5.82e+04</td> <td> 1.39e+05</td>\n",
       "</tr>\n",
       "<tr>\n",
       "  <th>renovation_10</th>       <td> 6.733e+04</td> <td> 8090.218</td> <td>    8.323</td> <td> 0.000</td> <td> 5.15e+04</td> <td> 8.32e+04</td>\n",
       "</tr>\n",
       "<tr>\n",
       "  <th>Season_Summer</th>       <td>-1.803e+04</td> <td> 2209.941</td> <td>   -8.158</td> <td> 0.000</td> <td>-2.24e+04</td> <td>-1.37e+04</td>\n",
       "</tr>\n",
       "<tr>\n",
       "  <th>Season_Fall</th>         <td>-2.386e+04</td> <td> 2339.843</td> <td>  -10.196</td> <td> 0.000</td> <td>-2.84e+04</td> <td>-1.93e+04</td>\n",
       "</tr>\n",
       "<tr>\n",
       "  <th>Season_Winter</th>       <td>-2.262e+04</td> <td> 2561.586</td> <td>   -8.831</td> <td> 0.000</td> <td>-2.76e+04</td> <td>-1.76e+04</td>\n",
       "</tr>\n",
       "<tr>\n",
       "  <th>Bedrooms_2</th>          <td> 1.739e+04</td> <td> 9970.238</td> <td>    1.745</td> <td> 0.081</td> <td>-2149.057</td> <td> 3.69e+04</td>\n",
       "</tr>\n",
       "<tr>\n",
       "  <th>Bedrooms_3</th>          <td>  2.21e+04</td> <td> 9927.780</td> <td>    2.226</td> <td> 0.026</td> <td> 2637.430</td> <td> 4.16e+04</td>\n",
       "</tr>\n",
       "<tr>\n",
       "  <th>Bedrooms_4</th>          <td>  1.28e+04</td> <td> 1.02e+04</td> <td>    1.261</td> <td> 0.207</td> <td>-7103.996</td> <td> 3.27e+04</td>\n",
       "</tr>\n",
       "<tr>\n",
       "  <th>Bedrooms_5</th>          <td>-5529.6767</td> <td> 1.07e+04</td> <td>   -0.515</td> <td> 0.607</td> <td>-2.66e+04</td> <td> 1.55e+04</td>\n",
       "</tr>\n",
       "<tr>\n",
       "  <th>Bedrooms_6_up</th>       <td>-3.095e+04</td> <td> 1.29e+04</td> <td>   -2.397</td> <td> 0.017</td> <td>-5.63e+04</td> <td>-5643.126</td>\n",
       "</tr>\n",
       "<tr>\n",
       "  <th>Bathrooms_2</th>         <td> 6056.5100</td> <td> 2439.278</td> <td>    2.483</td> <td> 0.013</td> <td> 1275.290</td> <td> 1.08e+04</td>\n",
       "</tr>\n",
       "<tr>\n",
       "  <th>Bathrooms_3</th>         <td> 2.845e+04</td> <td> 4219.025</td> <td>    6.744</td> <td> 0.000</td> <td> 2.02e+04</td> <td> 3.67e+04</td>\n",
       "</tr>\n",
       "<tr>\n",
       "  <th>Bathrooms_4</th>         <td> 2.992e+04</td> <td> 1.13e+04</td> <td>    2.647</td> <td> 0.008</td> <td> 7763.837</td> <td> 5.21e+04</td>\n",
       "</tr>\n",
       "<tr>\n",
       "  <th>Bathrooms_5_up</th>      <td>-5.416e+04</td> <td> 3.36e+04</td> <td>   -1.612</td> <td> 0.107</td> <td> -1.2e+05</td> <td> 1.17e+04</td>\n",
       "</tr>\n",
       "<tr>\n",
       "  <th>Floors_2</th>            <td>  1.14e+04</td> <td> 2724.088</td> <td>    4.185</td> <td> 0.000</td> <td> 6061.770</td> <td> 1.67e+04</td>\n",
       "</tr>\n",
       "<tr>\n",
       "  <th>Floors_3</th>            <td>-4189.8457</td> <td> 5923.560</td> <td>   -0.707</td> <td> 0.479</td> <td>-1.58e+04</td> <td> 7420.901</td>\n",
       "</tr>\n",
       "<tr>\n",
       "  <th>View_1</th>              <td> 9.142e+04</td> <td> 7393.971</td> <td>   12.364</td> <td> 0.000</td> <td> 7.69e+04</td> <td> 1.06e+05</td>\n",
       "</tr>\n",
       "<tr>\n",
       "  <th>View_2</th>              <td> 7.566e+04</td> <td> 4561.644</td> <td>   16.587</td> <td> 0.000</td> <td> 6.67e+04</td> <td> 8.46e+04</td>\n",
       "</tr>\n",
       "<tr>\n",
       "  <th>View_3</th>              <td> 1.057e+05</td> <td> 7248.088</td> <td>   14.583</td> <td> 0.000</td> <td> 9.15e+04</td> <td>  1.2e+05</td>\n",
       "</tr>\n",
       "<tr>\n",
       "  <th>View_4</th>              <td> 2.098e+05</td> <td> 1.22e+04</td> <td>   17.227</td> <td> 0.000</td> <td> 1.86e+05</td> <td> 2.34e+05</td>\n",
       "</tr>\n",
       "<tr>\n",
       "  <th>Condition_2</th>         <td> 9.038e+04</td> <td> 2.75e+04</td> <td>    3.285</td> <td> 0.001</td> <td> 3.65e+04</td> <td> 1.44e+05</td>\n",
       "</tr>\n",
       "<tr>\n",
       "  <th>Condition_3</th>         <td>  1.15e+05</td> <td> 2.56e+04</td> <td>    4.492</td> <td> 0.000</td> <td> 6.48e+04</td> <td> 1.65e+05</td>\n",
       "</tr>\n",
       "<tr>\n",
       "  <th>Condition_4</th>         <td> 1.444e+05</td> <td> 2.56e+04</td> <td>    5.639</td> <td> 0.000</td> <td> 9.42e+04</td> <td> 1.95e+05</td>\n",
       "</tr>\n",
       "<tr>\n",
       "  <th>Condition_5</th>         <td> 1.709e+05</td> <td> 2.57e+04</td> <td>    6.642</td> <td> 0.000</td> <td>  1.2e+05</td> <td> 2.21e+05</td>\n",
       "</tr>\n",
       "<tr>\n",
       "  <th>Grade_Above_Average</th> <td> 9.438e+04</td> <td> 2293.842</td> <td>   41.144</td> <td> 0.000</td> <td> 8.99e+04</td> <td> 9.89e+04</td>\n",
       "</tr>\n",
       "<tr>\n",
       "  <th>Grade_High_Quality</th>  <td> 2.188e+05</td> <td> 5802.875</td> <td>   37.703</td> <td> 0.000</td> <td> 2.07e+05</td> <td>  2.3e+05</td>\n",
       "</tr>\n",
       "<tr>\n",
       "  <th>second_chunk</th>        <td>-4.527e+04</td> <td> 3512.015</td> <td>  -12.891</td> <td> 0.000</td> <td>-5.22e+04</td> <td>-3.84e+04</td>\n",
       "</tr>\n",
       "<tr>\n",
       "  <th>third_chunk</th>         <td>-9.091e+04</td> <td> 3507.446</td> <td>  -25.918</td> <td> 0.000</td> <td>-9.78e+04</td> <td> -8.4e+04</td>\n",
       "</tr>\n",
       "<tr>\n",
       "  <th>fourth_chunk</th>        <td>-1.151e+05</td> <td> 3956.124</td> <td>  -29.088</td> <td> 0.000</td> <td>-1.23e+05</td> <td>-1.07e+05</td>\n",
       "</tr>\n",
       "<tr>\n",
       "  <th>fifth_chunk</th>         <td>-1.108e+05</td> <td> 4375.918</td> <td>  -25.313</td> <td> 0.000</td> <td>-1.19e+05</td> <td>-1.02e+05</td>\n",
       "</tr>\n",
       "<tr>\n",
       "  <th>Section_2</th>           <td>  1.21e+04</td> <td> 2995.556</td> <td>    4.039</td> <td> 0.000</td> <td> 6228.094</td> <td>  1.8e+04</td>\n",
       "</tr>\n",
       "<tr>\n",
       "  <th>Section_3</th>           <td>-1.047e+05</td> <td> 1.24e+04</td> <td>   -8.445</td> <td> 0.000</td> <td>-1.29e+05</td> <td>-8.04e+04</td>\n",
       "</tr>\n",
       "<tr>\n",
       "  <th>Section_4</th>           <td>-1.388e+05</td> <td> 2708.513</td> <td>  -51.257</td> <td> 0.000</td> <td>-1.44e+05</td> <td>-1.34e+05</td>\n",
       "</tr>\n",
       "<tr>\n",
       "  <th>Section_5</th>           <td>-1.262e+05</td> <td> 2999.694</td> <td>  -42.059</td> <td> 0.000</td> <td>-1.32e+05</td> <td> -1.2e+05</td>\n",
       "</tr>\n",
       "<tr>\n",
       "  <th>Section_6</th>           <td>-1.125e+05</td> <td> 5981.239</td> <td>  -18.814</td> <td> 0.000</td> <td>-1.24e+05</td> <td>-1.01e+05</td>\n",
       "</tr>\n",
       "<tr>\n",
       "  <th>Section_7</th>           <td>-2.362e+05</td> <td> 4221.655</td> <td>  -55.946</td> <td> 0.000</td> <td>-2.44e+05</td> <td>-2.28e+05</td>\n",
       "</tr>\n",
       "<tr>\n",
       "  <th>Section_8</th>           <td>-2.217e+05</td> <td> 4023.828</td> <td>  -55.085</td> <td> 0.000</td> <td> -2.3e+05</td> <td>-2.14e+05</td>\n",
       "</tr>\n",
       "<tr>\n",
       "  <th>Section_9</th>           <td>-2.667e+05</td> <td> 8.06e+04</td> <td>   -3.310</td> <td> 0.001</td> <td>-4.25e+05</td> <td>-1.09e+05</td>\n",
       "</tr>\n",
       "</table>\n",
       "<table class=\"simpletable\">\n",
       "<tr>\n",
       "  <th>Omnibus:</th>       <td>1842.402</td> <th>  Durbin-Watson:     </th> <td>   2.000</td>\n",
       "</tr>\n",
       "<tr>\n",
       "  <th>Prob(Omnibus):</th>  <td> 0.000</td>  <th>  Jarque-Bera (JB):  </th> <td>3511.587</td>\n",
       "</tr>\n",
       "<tr>\n",
       "  <th>Skew:</th>           <td> 0.684</td>  <th>  Prob(JB):          </th> <td>    0.00</td>\n",
       "</tr>\n",
       "<tr>\n",
       "  <th>Kurtosis:</th>       <td> 4.677</td>  <th>  Cond. No.          </th> <td>7.78e+05</td>\n",
       "</tr>\n",
       "</table><br/><br/>Notes:<br/>[1] Standard Errors assume that the covariance matrix of the errors is correctly specified.<br/>[2] The condition number is large, 7.78e+05. This might indicate that there are<br/>strong multicollinearity or other numerical problems."
      ],
      "text/plain": [
       "<class 'statsmodels.iolib.summary.Summary'>\n",
       "\"\"\"\n",
       "                            OLS Regression Results                            \n",
       "==============================================================================\n",
       "Dep. Variable:                  price   R-squared:                       0.691\n",
       "Model:                            OLS   Adj. R-squared:                  0.691\n",
       "Method:                 Least Squares   F-statistic:                     1005.\n",
       "Date:                Mon, 20 Sep 2021   Prob (F-statistic):               0.00\n",
       "Time:                        15:18:17   Log-Likelihood:            -2.3496e+05\n",
       "No. Observations:               17991   AIC:                         4.700e+05\n",
       "Df Residuals:                   17950   BIC:                         4.703e+05\n",
       "Df Model:                          40                                         \n",
       "Covariance Type:            nonrobust                                         \n",
       "=======================================================================================\n",
       "                          coef    std err          t      P>|t|      [0.025      0.975]\n",
       "---------------------------------------------------------------------------------------\n",
       "Intercept            2.168e+05    2.7e+04      8.042      0.000    1.64e+05     2.7e+05\n",
       "sqft_living           127.6279      2.127     60.008      0.000     123.459     131.797\n",
       "sqft_lot               -2.7687      0.339     -8.157      0.000      -3.434      -2.103\n",
       "waterfront           9.884e+04   2.07e+04      4.772      0.000    5.82e+04    1.39e+05\n",
       "renovation_10        6.733e+04   8090.218      8.323      0.000    5.15e+04    8.32e+04\n",
       "Season_Summer       -1.803e+04   2209.941     -8.158      0.000   -2.24e+04   -1.37e+04\n",
       "Season_Fall         -2.386e+04   2339.843    -10.196      0.000   -2.84e+04   -1.93e+04\n",
       "Season_Winter       -2.262e+04   2561.586     -8.831      0.000   -2.76e+04   -1.76e+04\n",
       "Bedrooms_2           1.739e+04   9970.238      1.745      0.081   -2149.057    3.69e+04\n",
       "Bedrooms_3            2.21e+04   9927.780      2.226      0.026    2637.430    4.16e+04\n",
       "Bedrooms_4            1.28e+04   1.02e+04      1.261      0.207   -7103.996    3.27e+04\n",
       "Bedrooms_5          -5529.6767   1.07e+04     -0.515      0.607   -2.66e+04    1.55e+04\n",
       "Bedrooms_6_up       -3.095e+04   1.29e+04     -2.397      0.017   -5.63e+04   -5643.126\n",
       "Bathrooms_2          6056.5100   2439.278      2.483      0.013    1275.290    1.08e+04\n",
       "Bathrooms_3          2.845e+04   4219.025      6.744      0.000    2.02e+04    3.67e+04\n",
       "Bathrooms_4          2.992e+04   1.13e+04      2.647      0.008    7763.837    5.21e+04\n",
       "Bathrooms_5_up      -5.416e+04   3.36e+04     -1.612      0.107    -1.2e+05    1.17e+04\n",
       "Floors_2              1.14e+04   2724.088      4.185      0.000    6061.770    1.67e+04\n",
       "Floors_3            -4189.8457   5923.560     -0.707      0.479   -1.58e+04    7420.901\n",
       "View_1               9.142e+04   7393.971     12.364      0.000    7.69e+04    1.06e+05\n",
       "View_2               7.566e+04   4561.644     16.587      0.000    6.67e+04    8.46e+04\n",
       "View_3               1.057e+05   7248.088     14.583      0.000    9.15e+04     1.2e+05\n",
       "View_4               2.098e+05   1.22e+04     17.227      0.000    1.86e+05    2.34e+05\n",
       "Condition_2          9.038e+04   2.75e+04      3.285      0.001    3.65e+04    1.44e+05\n",
       "Condition_3           1.15e+05   2.56e+04      4.492      0.000    6.48e+04    1.65e+05\n",
       "Condition_4          1.444e+05   2.56e+04      5.639      0.000    9.42e+04    1.95e+05\n",
       "Condition_5          1.709e+05   2.57e+04      6.642      0.000     1.2e+05    2.21e+05\n",
       "Grade_Above_Average  9.438e+04   2293.842     41.144      0.000    8.99e+04    9.89e+04\n",
       "Grade_High_Quality   2.188e+05   5802.875     37.703      0.000    2.07e+05     2.3e+05\n",
       "second_chunk        -4.527e+04   3512.015    -12.891      0.000   -5.22e+04   -3.84e+04\n",
       "third_chunk         -9.091e+04   3507.446    -25.918      0.000   -9.78e+04    -8.4e+04\n",
       "fourth_chunk        -1.151e+05   3956.124    -29.088      0.000   -1.23e+05   -1.07e+05\n",
       "fifth_chunk         -1.108e+05   4375.918    -25.313      0.000   -1.19e+05   -1.02e+05\n",
       "Section_2             1.21e+04   2995.556      4.039      0.000    6228.094     1.8e+04\n",
       "Section_3           -1.047e+05   1.24e+04     -8.445      0.000   -1.29e+05   -8.04e+04\n",
       "Section_4           -1.388e+05   2708.513    -51.257      0.000   -1.44e+05   -1.34e+05\n",
       "Section_5           -1.262e+05   2999.694    -42.059      0.000   -1.32e+05    -1.2e+05\n",
       "Section_6           -1.125e+05   5981.239    -18.814      0.000   -1.24e+05   -1.01e+05\n",
       "Section_7           -2.362e+05   4221.655    -55.946      0.000   -2.44e+05   -2.28e+05\n",
       "Section_8           -2.217e+05   4023.828    -55.085      0.000    -2.3e+05   -2.14e+05\n",
       "Section_9           -2.667e+05   8.06e+04     -3.310      0.001   -4.25e+05   -1.09e+05\n",
       "==============================================================================\n",
       "Omnibus:                     1842.402   Durbin-Watson:                   2.000\n",
       "Prob(Omnibus):                  0.000   Jarque-Bera (JB):             3511.587\n",
       "Skew:                           0.684   Prob(JB):                         0.00\n",
       "Kurtosis:                       4.677   Cond. No.                     7.78e+05\n",
       "==============================================================================\n",
       "\n",
       "Notes:\n",
       "[1] Standard Errors assume that the covariance matrix of the errors is correctly specified.\n",
       "[2] The condition number is large, 7.78e+05. This might indicate that there are\n",
       "strong multicollinearity or other numerical problems.\n",
       "\"\"\""
      ]
     },
     "execution_count": 8,
     "metadata": {},
     "output_type": "execute_result"
    }
   ],
   "source": [
    "model_5 = ols(formula=formula, data=model_5_data).fit()\n",
    "model_5.summary()"
   ]
  },
  {
   "cell_type": "code",
   "execution_count": 9,
   "metadata": {},
   "outputs": [
    {
     "data": {
      "image/png": "[encoded data removed]",
      "text/plain": [
       "<Figure size 432x288 with 1 Axes>"
      ]
     },
     "metadata": {
      "needs_background": "light"
     },
     "output_type": "display_data"
    }
   ],
   "source": [
    "residuals = model_5.resid\n",
    "fig = sm.graphics.qqplot(residuals, dist=stats.norm, fit=True, line='45', alpha=0.2)\n",
    "plt.title('First Model', size=12);"
   ]
  },
  {
   "cell_type": "code",
   "execution_count": 10,
   "metadata": {},
   "outputs": [],
   "source": [
    "x_data = model_5_data.drop(['price'], axis=1)\n",
    "y_data = model_5_data.price"
   ]
  },
  {
   "cell_type": "code",
   "execution_count": 11,
   "metadata": {},
   "outputs": [],
   "source": [
    "X_train, X_test, Y_train, Y_test = train_test_split(x_data, y_data, test_size=0.3, random_state=42)"
   ]
  },
  {
   "cell_type": "code",
   "execution_count": 12,
   "metadata": {},
   "outputs": [],
   "source": [
    "linreg = LinearRegression()\n",
    "linreg.fit(X_train, Y_train)\n",
    "\n",
    "#Y_train = np.exp(Y_train)\n",
    "#Y_test = np.exp(Y_test)\n",
    "#y_estimate_train = np.exp(linreg.predict(X_train))\n",
    "y_estimate_train = linreg.predict(X_train)\n",
    "#y_estimate_test = np.exp(linreg.predict(X_test))\n",
    "y_estimate_test = linreg.predict(X_test)"
   ]
  },
  {
   "cell_type": "code",
   "execution_count": 13,
   "metadata": {},
   "outputs": [
    {
     "name": "stdout",
     "output_type": "stream",
     "text": [
      "113930.9375095537 113065.9759920097\n"
     ]
    }
   ],
   "source": [
    "train_rmse = mean_squared_error(Y_train, y_estimate_train, squared=False)\n",
    "test_rmse = mean_squared_error(Y_test, y_estimate_test, squared=False)\n",
    "print(train_rmse, test_rmse)"
   ]
  },
  {
   "cell_type": "code",
   "execution_count": null,
   "metadata": {},
   "outputs": [],
   "source": []
  }
 ],
 "metadata": {
  "kernelspec": {
   "display_name": "Python 3",
   "language": "python",
   "name": "python3"
  },
  "language_info": {
   "codemirror_mode": {
    "name": "ipython",
    "version": 3
   },
   "file_extension": ".py",
   "mimetype": "text/x-python",
   "name": "python",
   "nbconvert_exporter": "python",
   "pygments_lexer": "ipython3",
   "version": "3.8.5"
  }
 },
 "nbformat": 4,
 "nbformat_minor": 4
}
