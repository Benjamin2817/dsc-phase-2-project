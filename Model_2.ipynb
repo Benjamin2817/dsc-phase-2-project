{
 "cells": [
  {
   "cell_type": "code",
   "execution_count": 1,
   "metadata": {},
   "outputs": [],
   "source": [
    "from statsmodels.formula.api import ols\n",
    "from statsmodels.stats.diagnostic import linear_rainbow\n",
    "from statsmodels.stats.outliers_influence import variance_inflation_factor\n",
    "\n",
    "import matplotlib.pyplot as plt\n",
    "import numpy as np\n",
    "import pandas as pd\n",
    "import scipy.stats as stats\n",
    "import statsmodels.api as sm\n",
    "\n",
    "%matplotlib inline"
   ]
  },
  {
   "cell_type": "code",
   "execution_count": 2,
   "metadata": {},
   "outputs": [],
   "source": [
    "model_2_data = pd.read_csv('data/cleaned_kc_house_data.csv')"
   ]
  },
  {
   "cell_type": "code",
   "execution_count": 3,
   "metadata": {},
   "outputs": [],
   "source": [
    "correlation_data = model_2_data.corr().abs()\n",
    "unstacked_correlation_data = correlation_data.unstack()\n",
    "srt_unstacked_correlation_data = unstacked_correlation_data.sort_values(ascending=False, kind='quicksort')"
   ]
  },
  {
   "cell_type": "code",
   "execution_count": 4,
   "metadata": {},
   "outputs": [
    {
     "data": {
      "text/plain": [
       "sqft_above     sqft_living      0.873747\n",
       "sqft_living    sqft_above       0.873747\n",
       "grade          sqft_living      0.758916\n",
       "sqft_living    grade            0.758916\n",
       "               sqft_living15    0.757754\n",
       "sqft_living15  sqft_living      0.757754\n",
       "sqft_above     grade            0.752974\n",
       "grade          sqft_above       0.752974\n",
       "sqft_living    bathrooms        0.750902\n",
       "bathrooms      sqft_living      0.750902\n",
       "sqft_above     sqft_living15    0.731980\n",
       "sqft_living15  sqft_above       0.731980\n",
       "sqft_lot       sqft_lot15       0.718085\n",
       "sqft_lot15     sqft_lot         0.718085\n",
       "sqft_living15  grade            0.714324\n",
       "grade          sqft_living15    0.714324\n",
       "dtype: float64"
      ]
     },
     "execution_count": 4,
     "metadata": {},
     "output_type": "execute_result"
    }
   ],
   "source": [
    "srt_unstacked_correlation_data.loc[(srt_unstacked_correlation_data != 1.0) & (srt_unstacked_correlation_data > .7)].head(20)"
   ]
  },
  {
   "cell_type": "code",
   "execution_count": 5,
   "metadata": {},
   "outputs": [],
   "source": [
    "## Use variance inflation factor to test for multicollinearity amongst feature variables\n",
    "independent_data = model_2_data.drop(['price'], axis=1)\n",
    "vif = [variance_inflation_factor(independent_data.values, i) for i in range(len(independent_data.columns))]"
   ]
  },
  {
   "cell_type": "code",
   "execution_count": 6,
   "metadata": {},
   "outputs": [
    {
     "data": {
      "text/plain": [
       "[('month', 5.443743334473656),\n",
       " ('bedrooms', 25.846347041046936),\n",
       " ('bathrooms', 29.05786076470624),\n",
       " ('sqft_living', 892.4167417171016),\n",
       " ('sqft_lot', 2.372879956183381),\n",
       " ('floors', 16.944587575065594),\n",
       " ('waterfront', 1.163482020190022),\n",
       " ('view', 1.4877794056617608),\n",
       " ('condition', 34.93445685579481),\n",
       " ('grade', 152.0738221688315),\n",
       " ('sqft_above', 669.9332264490171),\n",
       " ('sqft_basement', 46.508620920635),\n",
       " ('yr_built', 9430.428060786378),\n",
       " ('yr_renovated', 1.1547832074461881),\n",
       " ('zipcode', 1642034.7439469502),\n",
       " ('lat', 138857.00552906943),\n",
       " ('long', 1372623.126719834),\n",
       " ('sqft_living15', 27.52941031708486),\n",
       " ('sqft_lot15', 2.593700527713946)]"
      ]
     },
     "execution_count": 6,
     "metadata": {},
     "output_type": "execute_result"
    }
   ],
   "source": [
    "list(zip(independent_data.columns, vif))"
   ]
  },
  {
   "cell_type": "code",
   "execution_count": 7,
   "metadata": {},
   "outputs": [],
   "source": [
    "model_2_data.drop(['sqft_above', 'sqft_basement', 'sqft_living15', 'sqft_lot15'], axis=1, inplace=True)"
   ]
  },
  {
   "cell_type": "markdown",
   "metadata": {},
   "source": [
    "#### Create Dummy Variables for Seasons"
   ]
  },
  {
   "cell_type": "code",
   "execution_count": 8,
   "metadata": {},
   "outputs": [],
   "source": [
    "## Bin 'month' column into seasons\n",
    "labels = ['Winter', 'Spring', 'Summer', 'Fall', 'Winter']\n",
    "model_2_data.month = pd.cut(model_2_data.month, bins=[0,2,5,8,11,12], labels=labels, ordered=False)"
   ]
  },
  {
   "cell_type": "code",
   "execution_count": 9,
   "metadata": {},
   "outputs": [
    {
     "data": {
      "text/plain": [
       "Spring    6469\n",
       "Summer    6221\n",
       "Fall      4971\n",
       "Winter    3657\n",
       "Name: month, dtype: int64"
      ]
     },
     "execution_count": 9,
     "metadata": {},
     "output_type": "execute_result"
    }
   ],
   "source": [
    "model_2_data.month.value_counts()"
   ]
  },
  {
   "cell_type": "code",
   "execution_count": 10,
   "metadata": {
    "scrolled": true
   },
   "outputs": [
    {
     "data": {
      "text/plain": [
       "month\n",
       "Fall      530505.811909\n",
       "Spring    553723.661617\n",
       "Summer    548311.498955\n",
       "Winter    520428.259776\n",
       "Name: price, dtype: float64"
      ]
     },
     "execution_count": 10,
     "metadata": {},
     "output_type": "execute_result"
    }
   ],
   "source": [
    "model_2_data.groupby('month')['price'].mean()"
   ]
  },
  {
   "cell_type": "code",
   "execution_count": 11,
   "metadata": {},
   "outputs": [],
   "source": [
    "season_dummies = pd.get_dummies(model_2_data.month, prefix='Season')"
   ]
  },
  {
   "cell_type": "code",
   "execution_count": 12,
   "metadata": {},
   "outputs": [],
   "source": [
    "## Reorder seasons based on chronology\n",
    "## Exclude 'Season_Spring' to avoid the dummy variable trap\n",
    "season_columns = list(season_dummies.columns)\n",
    "season_columns = [season_columns[2]] + [season_columns[0]] + [season_columns[3]]\n",
    "season_dummies = season_dummies[season_columns]"
   ]
  },
  {
   "cell_type": "code",
   "execution_count": 13,
   "metadata": {},
   "outputs": [],
   "source": [
    "model_2_data = pd.concat([model_2_data, season_dummies], axis=1)"
   ]
  },
  {
   "cell_type": "code",
   "execution_count": 14,
   "metadata": {},
   "outputs": [],
   "source": [
    "model_2_data.drop(['month'], axis=1, inplace=True)"
   ]
  },
  {
   "cell_type": "markdown",
   "metadata": {},
   "source": [
    "#### Create Dummy Variables for Bedrooms"
   ]
  },
  {
   "cell_type": "code",
   "execution_count": 15,
   "metadata": {},
   "outputs": [
    {
     "data": {
      "text/plain": [
       "array([ 3,  2,  4,  5,  1,  6,  7,  8,  9, 11, 10], dtype=int64)"
      ]
     },
     "execution_count": 15,
     "metadata": {},
     "output_type": "execute_result"
    }
   ],
   "source": [
    "model_2_data.bedrooms.unique()"
   ]
  },
  {
   "cell_type": "code",
   "execution_count": 16,
   "metadata": {},
   "outputs": [
    {
     "data": {
      "text/plain": [
       "3     9714\n",
       "4     6843\n",
       "2     2700\n",
       "5     1580\n",
       "6      262\n",
       "1      158\n",
       "7       38\n",
       "8       13\n",
       "9        6\n",
       "10       3\n",
       "11       1\n",
       "Name: bedrooms, dtype: int64"
      ]
     },
     "execution_count": 16,
     "metadata": {},
     "output_type": "execute_result"
    }
   ],
   "source": [
    "model_2_data.bedrooms.value_counts()"
   ]
  },
  {
   "cell_type": "code",
   "execution_count": 17,
   "metadata": {},
   "outputs": [],
   "source": [
    "## Bin 'bedrooms' column\n",
    "bedroom_labels = ['1', '2', '3', '4', '5', '6_up']\n",
    "model_2_data.bedrooms = pd.cut(model_2_data.bedrooms, bins=[0,1,2,3,4,5,11], labels=bedroom_labels, ordered=True)"
   ]
  },
  {
   "cell_type": "code",
   "execution_count": 18,
   "metadata": {},
   "outputs": [
    {
     "data": {
      "text/plain": [
       "3       9714\n",
       "4       6843\n",
       "2       2700\n",
       "5       1580\n",
       "6_up     323\n",
       "1        158\n",
       "Name: bedrooms, dtype: int64"
      ]
     },
     "execution_count": 18,
     "metadata": {},
     "output_type": "execute_result"
    }
   ],
   "source": [
    "model_2_data.bedrooms.value_counts()"
   ]
  },
  {
   "cell_type": "code",
   "execution_count": 19,
   "metadata": {},
   "outputs": [],
   "source": [
    "bedrooms_dummies = pd.get_dummies(model_2_data.bedrooms, prefix='Bedrooms', drop_first=True)"
   ]
  },
  {
   "cell_type": "code",
   "execution_count": 20,
   "metadata": {},
   "outputs": [],
   "source": [
    "model_2_data = pd.concat([model_2_data, bedrooms_dummies], axis=1)\n",
    "model_2_data.drop(['bedrooms'], axis=1, inplace=True)"
   ]
  },
  {
   "cell_type": "markdown",
   "metadata": {},
   "source": [
    "#### Create Dummy Variables for Bathrooms"
   ]
  },
  {
   "cell_type": "code",
   "execution_count": 21,
   "metadata": {},
   "outputs": [],
   "source": [
    "model_2_data.bathrooms = model_2_data.bathrooms.apply(np.floor)\n",
    "model_2_data = model_2_data.astype({'bathrooms':'int'})"
   ]
  },
  {
   "cell_type": "code",
   "execution_count": 22,
   "metadata": {},
   "outputs": [
    {
     "data": {
      "text/plain": [
       "2    10477\n",
       "1     8237\n",
       "3     2215\n",
       "4      332\n",
       "5       44\n",
       "6       11\n",
       "8        1\n",
       "7        1\n",
       "Name: bathrooms, dtype: int64"
      ]
     },
     "execution_count": 22,
     "metadata": {},
     "output_type": "execute_result"
    }
   ],
   "source": [
    "model_2_data.bathrooms.value_counts()"
   ]
  },
  {
   "cell_type": "code",
   "execution_count": 23,
   "metadata": {},
   "outputs": [],
   "source": [
    "## Bin 'bathrooms' column\n",
    "bathroom_labels = ['1', '2', '3', '4', '5_up']\n",
    "model_2_data.bathrooms = pd.cut(model_2_data.bathrooms, bins=[0,1,2,3,4,8], labels=bathroom_labels, ordered=True)"
   ]
  },
  {
   "cell_type": "code",
   "execution_count": 24,
   "metadata": {},
   "outputs": [],
   "source": [
    "bathroom_dummies = pd.get_dummies(model_2_data.bathrooms, prefix='Bathrooms', drop_first=True)"
   ]
  },
  {
   "cell_type": "code",
   "execution_count": 25,
   "metadata": {},
   "outputs": [],
   "source": [
    "model_2_data = pd.concat([model_2_data, bathroom_dummies], axis=1)\n",
    "model_2_data.drop(['bathrooms'], axis=1, inplace=True)"
   ]
  },
  {
   "cell_type": "markdown",
   "metadata": {},
   "source": [
    "#### Create Dummy Variables for Floors"
   ]
  },
  {
   "cell_type": "code",
   "execution_count": 26,
   "metadata": {},
   "outputs": [],
   "source": [
    "model_2_data.floors = model_2_data.floors.apply(np.floor)\n",
    "model_2_data = model_2_data.astype({'floors':'int'})"
   ]
  },
  {
   "cell_type": "code",
   "execution_count": 27,
   "metadata": {},
   "outputs": [],
   "source": [
    "floor_dummies = pd.get_dummies(model_2_data.floors, prefix='Floors', drop_first=True)"
   ]
  },
  {
   "cell_type": "code",
   "execution_count": 28,
   "metadata": {},
   "outputs": [],
   "source": [
    "model_2_data = pd.concat([model_2_data, floor_dummies], axis=1)\n",
    "model_2_data.drop(['floors'], axis=1, inplace=True)"
   ]
  },
  {
   "cell_type": "markdown",
   "metadata": {},
   "source": [
    "#### Create Dummy Variables for View"
   ]
  },
  {
   "cell_type": "code",
   "execution_count": 29,
   "metadata": {},
   "outputs": [],
   "source": [
    "view_dummies = pd.get_dummies(model_2_data.view, prefix='View', drop_first=True)"
   ]
  },
  {
   "cell_type": "code",
   "execution_count": 30,
   "metadata": {},
   "outputs": [],
   "source": [
    "model_2_data = pd.concat([model_2_data, view_dummies], axis=1)\n",
    "model_2_data.drop(['view'], axis=1, inplace=True)"
   ]
  },
  {
   "cell_type": "markdown",
   "metadata": {},
   "source": [
    "#### Create Dummy Variables for Condition"
   ]
  },
  {
   "cell_type": "code",
   "execution_count": 31,
   "metadata": {},
   "outputs": [
    {
     "data": {
      "text/plain": [
       "array([3, 5, 4, 1, 2], dtype=int64)"
      ]
     },
     "execution_count": 31,
     "metadata": {},
     "output_type": "execute_result"
    }
   ],
   "source": [
    "model_2_data.condition.unique()"
   ]
  },
  {
   "cell_type": "code",
   "execution_count": 32,
   "metadata": {},
   "outputs": [],
   "source": [
    "condition_dummies = pd.get_dummies(model_2_data.condition, prefix='Condition', drop_first=True)"
   ]
  },
  {
   "cell_type": "code",
   "execution_count": 33,
   "metadata": {},
   "outputs": [],
   "source": [
    "model_2_data = pd.concat([model_2_data, condition_dummies], axis=1)\n",
    "model_2_data.drop(['condition'], axis=1, inplace=True)"
   ]
  },
  {
   "cell_type": "markdown",
   "metadata": {},
   "source": [
    "#### Create Dummy Variables for Grade"
   ]
  },
  {
   "cell_type": "code",
   "execution_count": 34,
   "metadata": {},
   "outputs": [
    {
     "data": {
      "text/plain": [
       "7     8871\n",
       "8     6040\n",
       "9     2606\n",
       "6     1968\n",
       "10    1130\n",
       "11     396\n",
       "5      219\n",
       "12      88\n",
       "Name: grade, dtype: int64"
      ]
     },
     "execution_count": 34,
     "metadata": {},
     "output_type": "execute_result"
    }
   ],
   "source": [
    "model_2_data.grade.value_counts()"
   ]
  },
  {
   "cell_type": "code",
   "execution_count": 35,
   "metadata": {},
   "outputs": [],
   "source": [
    "## Bin 'grade' column\n",
    "grade_labels = ['Average', 'Above_Average', 'High_Quality']\n",
    "model_2_data.grade = pd.cut(model_2_data.grade, bins=[4,7,9,12], labels=grade_labels, ordered=True)"
   ]
  },
  {
   "cell_type": "code",
   "execution_count": 36,
   "metadata": {},
   "outputs": [],
   "source": [
    "grade_dummies = pd.get_dummies(model_2_data.grade, prefix='Grade', drop_first=True)"
   ]
  },
  {
   "cell_type": "code",
   "execution_count": 37,
   "metadata": {},
   "outputs": [],
   "source": [
    "model_2_data = pd.concat([model_2_data, grade_dummies], axis=1)\n",
    "model_2_data.drop(['grade'], axis=1, inplace=True)"
   ]
  },
  {
   "cell_type": "markdown",
   "metadata": {},
   "source": [
    "#### Create Dummy Variables for Yr_Built"
   ]
  },
  {
   "cell_type": "code",
   "execution_count": 38,
   "metadata": {},
   "outputs": [
    {
     "data": {
      "text/plain": [
       "count    21318.000000\n",
       "mean      1971.211042\n",
       "std         29.353097\n",
       "min       1900.000000\n",
       "25%       1952.000000\n",
       "50%       1975.000000\n",
       "75%       1997.000000\n",
       "max       2015.000000\n",
       "Name: yr_built, dtype: float64"
      ]
     },
     "execution_count": 38,
     "metadata": {},
     "output_type": "execute_result"
    }
   ],
   "source": [
    "model_2_data.yr_built.describe()"
   ]
  },
  {
   "cell_type": "code",
   "execution_count": 39,
   "metadata": {},
   "outputs": [],
   "source": [
    "## Bin 'yr_built' column\n",
    "#yr_built_labels = ['1900-1925', '1926-1950', '1951-1975', '1976-2000', '2001-2015']\n",
    "yr_built_labels = ['first_chunk', 'second_chunk', 'third_chunk', 'fourth_chunk', 'fifth_chunk']\n",
    "model_2_data.yr_built = pd.cut(model_2_data.yr_built, bins=[1899,1925,1950,1975,2000,2015], labels=yr_built_labels)"
   ]
  },
  {
   "cell_type": "code",
   "execution_count": 40,
   "metadata": {},
   "outputs": [],
   "source": [
    "yr_built_dummies = pd.get_dummies(model_2_data.yr_built, drop_first=True)"
   ]
  },
  {
   "cell_type": "code",
   "execution_count": 41,
   "metadata": {},
   "outputs": [],
   "source": [
    "model_2_data = pd.concat([model_2_data, yr_built_dummies], axis=1)\n",
    "model_2_data.drop(['yr_built'], axis=1, inplace=True)"
   ]
  },
  {
   "cell_type": "markdown",
   "metadata": {},
   "source": [
    "#### Create Yr_renovated Column"
   ]
  },
  {
   "cell_type": "code",
   "execution_count": 42,
   "metadata": {},
   "outputs": [],
   "source": [
    "model_2_data = model_2_data.astype({'yr_renovated':'int'})"
   ]
  },
  {
   "cell_type": "code",
   "execution_count": 43,
   "metadata": {},
   "outputs": [],
   "source": [
    "def cnst_calc(dataFrame):\n",
    "    if dataFrame['yr_renovated'] > 2004:\n",
    "        val = 1\n",
    "    else:\n",
    "        val = 0\n",
    "    return val"
   ]
  },
  {
   "cell_type": "code",
   "execution_count": 44,
   "metadata": {},
   "outputs": [],
   "source": [
    "model_2_data['renovation_10'] = model_2_data.apply(cnst_calc, axis=1)\n",
    "model_2_data.drop('yr_renovated', axis=1, inplace=True)"
   ]
  },
  {
   "cell_type": "markdown",
   "metadata": {},
   "source": [
    "#### Bin Latitudes and Longitudes"
   ]
  },
  {
   "cell_type": "code",
   "execution_count": 45,
   "metadata": {},
   "outputs": [],
   "source": [
    "## Remove these data to prevent creation of sections with very few homes sold\n",
    "model_2_data = model_2_data.loc[model_2_data.long <= -121.69]"
   ]
  },
  {
   "cell_type": "code",
   "execution_count": 46,
   "metadata": {},
   "outputs": [],
   "source": [
    "min_lat = model_2_data.lat.min()\n",
    "max_lat = model_2_data.lat.max()\n",
    "min_long = model_2_data.long.min()\n",
    "max_long = model_2_data.long.max()\n",
    "thirds_lat = (max_lat - min_lat) / 3\n",
    "thirds_long = (max_long - min_long) / 3"
   ]
  },
  {
   "cell_type": "code",
   "execution_count": 47,
   "metadata": {},
   "outputs": [],
   "source": [
    "model_2_data.rename(columns={'zipcode':'section'}, inplace=True)"
   ]
  },
  {
   "cell_type": "code",
   "execution_count": 48,
   "metadata": {},
   "outputs": [],
   "source": [
    "def section_sorter(row):\n",
    "    section_number = 0\n",
    "    for each_third in range(3):\n",
    "        high_lat = max_lat - thirds_lat*each_third\n",
    "        low_lat = max_lat - thirds_lat*(each_third+1)\n",
    "        for thirds in range(3):\n",
    "            high_long = min_long + thirds_long*(thirds+1)\n",
    "            low_long = min_long + thirds_long*thirds\n",
    "            section_number += 1\n",
    "            if row['lat']<=high_lat and row['lat']>=low_lat and row['long']<=high_long and row['long']>=low_long:\n",
    "                return(section_number)"
   ]
  },
  {
   "cell_type": "code",
   "execution_count": 49,
   "metadata": {},
   "outputs": [],
   "source": [
    "model_2_data.section = model_2_data.apply(section_sorter, axis=1)\n",
    "model_2_data = model_2_data.astype({'section':'int'})"
   ]
  },
  {
   "cell_type": "markdown",
   "metadata": {},
   "source": [
    "#### Create Dummy Variables for Section"
   ]
  },
  {
   "cell_type": "code",
   "execution_count": 50,
   "metadata": {},
   "outputs": [],
   "source": [
    "section_dummies = pd.get_dummies(model_2_data.section, prefix='Section', drop_first=True)"
   ]
  },
  {
   "cell_type": "code",
   "execution_count": 51,
   "metadata": {},
   "outputs": [],
   "source": [
    "model_2_data = pd.concat([model_2_data, section_dummies], axis=1)\n",
    "model_2_data.to_csv('data/graph_data.csv', index=False)\n",
    "model_2_data.drop(['section', 'lat', 'long'], axis=1, inplace=True)"
   ]
  },
  {
   "cell_type": "markdown",
   "metadata": {},
   "source": [
    "## Model 2"
   ]
  },
  {
   "cell_type": "code",
   "execution_count": 52,
   "metadata": {},
   "outputs": [],
   "source": [
    "target_variable = 'price'\n",
    "input_variables = model_2_data.drop('price', axis=1).columns\n",
    "formula = target_variable + '~' + '+'.join(input_variables)"
   ]
  },
  {
   "cell_type": "code",
   "execution_count": 53,
   "metadata": {},
   "outputs": [
    {
     "data": {
      "text/html": [
       "<table class=\"simpletable\">\n",
       "<caption>OLS Regression Results</caption>\n",
       "<tr>\n",
       "  <th>Dep. Variable:</th>          <td>price</td>      <th>  R-squared:         </th>  <td>   0.714</td>  \n",
       "</tr>\n",
       "<tr>\n",
       "  <th>Model:</th>                   <td>OLS</td>       <th>  Adj. R-squared:    </th>  <td>   0.714</td>  \n",
       "</tr>\n",
       "<tr>\n",
       "  <th>Method:</th>             <td>Least Squares</td>  <th>  F-statistic:       </th>  <td>   1330.</td>  \n",
       "</tr>\n",
       "<tr>\n",
       "  <th>Date:</th>             <td>Wed, 22 Sep 2021</td> <th>  Prob (F-statistic):</th>   <td>  0.00</td>   \n",
       "</tr>\n",
       "<tr>\n",
       "  <th>Time:</th>                 <td>16:26:54</td>     <th>  Log-Likelihood:    </th> <td>-2.8921e+05</td>\n",
       "</tr>\n",
       "<tr>\n",
       "  <th>No. Observations:</th>      <td> 21301</td>      <th>  AIC:               </th>  <td>5.785e+05</td> \n",
       "</tr>\n",
       "<tr>\n",
       "  <th>Df Residuals:</th>          <td> 21260</td>      <th>  BIC:               </th>  <td>5.788e+05</td> \n",
       "</tr>\n",
       "<tr>\n",
       "  <th>Df Model:</th>              <td>    40</td>      <th>                     </th>      <td> </td>     \n",
       "</tr>\n",
       "<tr>\n",
       "  <th>Covariance Type:</th>      <td>nonrobust</td>    <th>                     </th>      <td> </td>     \n",
       "</tr>\n",
       "</table>\n",
       "<table class=\"simpletable\">\n",
       "<tr>\n",
       "           <td></td>              <th>coef</th>     <th>std err</th>      <th>t</th>      <th>P>|t|</th>  <th>[0.025</th>    <th>0.975]</th>  \n",
       "</tr>\n",
       "<tr>\n",
       "  <th>Intercept</th>           <td> 1.936e+05</td> <td> 4.01e+04</td> <td>    4.834</td> <td> 0.000</td> <td> 1.15e+05</td> <td> 2.72e+05</td>\n",
       "</tr>\n",
       "<tr>\n",
       "  <th>sqft_living</th>         <td>  179.4467</td> <td>    2.821</td> <td>   63.613</td> <td> 0.000</td> <td>  173.918</td> <td>  184.976</td>\n",
       "</tr>\n",
       "<tr>\n",
       "  <th>sqft_lot</th>            <td>   -0.0553</td> <td>    0.034</td> <td>   -1.640</td> <td> 0.101</td> <td>   -0.121</td> <td>    0.011</td>\n",
       "</tr>\n",
       "<tr>\n",
       "  <th>waterfront</th>          <td> 5.073e+05</td> <td> 1.83e+04</td> <td>   27.680</td> <td> 0.000</td> <td> 4.71e+05</td> <td> 5.43e+05</td>\n",
       "</tr>\n",
       "<tr>\n",
       "  <th>Season_Summer</th>       <td>-2.587e+04</td> <td> 3399.145</td> <td>   -7.611</td> <td> 0.000</td> <td>-3.25e+04</td> <td>-1.92e+04</td>\n",
       "</tr>\n",
       "<tr>\n",
       "  <th>Season_Fall</th>         <td>-3.116e+04</td> <td> 3606.890</td> <td>   -8.640</td> <td> 0.000</td> <td>-3.82e+04</td> <td>-2.41e+04</td>\n",
       "</tr>\n",
       "<tr>\n",
       "  <th>Season_Winter</th>       <td>-2.577e+04</td> <td> 3955.281</td> <td>   -6.515</td> <td> 0.000</td> <td>-3.35e+04</td> <td> -1.8e+04</td>\n",
       "</tr>\n",
       "<tr>\n",
       "  <th>Bedrooms_2</th>          <td> 6424.7294</td> <td> 1.57e+04</td> <td>    0.408</td> <td> 0.683</td> <td>-2.44e+04</td> <td> 3.73e+04</td>\n",
       "</tr>\n",
       "<tr>\n",
       "  <th>Bedrooms_3</th>          <td>-2588.2374</td> <td> 1.56e+04</td> <td>   -0.166</td> <td> 0.868</td> <td>-3.32e+04</td> <td>  2.8e+04</td>\n",
       "</tr>\n",
       "<tr>\n",
       "  <th>Bedrooms_4</th>          <td>-3.367e+04</td> <td> 1.59e+04</td> <td>   -2.113</td> <td> 0.035</td> <td>-6.49e+04</td> <td>-2442.601</td>\n",
       "</tr>\n",
       "<tr>\n",
       "  <th>Bedrooms_5</th>          <td>-4.693e+04</td> <td> 1.67e+04</td> <td>   -2.809</td> <td> 0.005</td> <td>-7.97e+04</td> <td>-1.42e+04</td>\n",
       "</tr>\n",
       "<tr>\n",
       "  <th>Bedrooms_6_up</th>       <td>-1.387e+05</td> <td> 1.95e+04</td> <td>   -7.118</td> <td> 0.000</td> <td>-1.77e+05</td> <td>-1.01e+05</td>\n",
       "</tr>\n",
       "<tr>\n",
       "  <th>Bathrooms_2</th>         <td> -264.4666</td> <td> 3799.840</td> <td>   -0.070</td> <td> 0.945</td> <td>-7712.441</td> <td> 7183.507</td>\n",
       "</tr>\n",
       "<tr>\n",
       "  <th>Bathrooms_3</th>         <td> 5.917e+04</td> <td> 6240.177</td> <td>    9.481</td> <td> 0.000</td> <td> 4.69e+04</td> <td> 7.14e+04</td>\n",
       "</tr>\n",
       "<tr>\n",
       "  <th>Bathrooms_4</th>         <td> 2.102e+05</td> <td> 1.27e+04</td> <td>   16.534</td> <td> 0.000</td> <td> 1.85e+05</td> <td> 2.35e+05</td>\n",
       "</tr>\n",
       "<tr>\n",
       "  <th>Bathrooms_5_up</th>      <td> 5.175e+05</td> <td> 2.72e+04</td> <td>   19.013</td> <td> 0.000</td> <td> 4.64e+05</td> <td> 5.71e+05</td>\n",
       "</tr>\n",
       "<tr>\n",
       "  <th>Floors_2</th>            <td> 1.313e+04</td> <td> 3952.466</td> <td>    3.322</td> <td> 0.001</td> <td> 5384.053</td> <td> 2.09e+04</td>\n",
       "</tr>\n",
       "<tr>\n",
       "  <th>Floors_3</th>            <td> 1.384e+04</td> <td> 9231.495</td> <td>    1.500</td> <td> 0.134</td> <td>-4251.665</td> <td> 3.19e+04</td>\n",
       "</tr>\n",
       "<tr>\n",
       "  <th>View_1</th>              <td> 1.425e+05</td> <td> 1.08e+04</td> <td>   13.222</td> <td> 0.000</td> <td> 1.21e+05</td> <td> 1.64e+05</td>\n",
       "</tr>\n",
       "<tr>\n",
       "  <th>View_2</th>              <td> 9.035e+04</td> <td> 6535.761</td> <td>   13.824</td> <td> 0.000</td> <td> 7.75e+04</td> <td> 1.03e+05</td>\n",
       "</tr>\n",
       "<tr>\n",
       "  <th>View_3</th>              <td> 1.576e+05</td> <td> 8888.310</td> <td>   17.733</td> <td> 0.000</td> <td>  1.4e+05</td> <td> 1.75e+05</td>\n",
       "</tr>\n",
       "<tr>\n",
       "  <th>View_4</th>              <td> 3.276e+05</td> <td> 1.33e+04</td> <td>   24.661</td> <td> 0.000</td> <td> 3.02e+05</td> <td> 3.54e+05</td>\n",
       "</tr>\n",
       "<tr>\n",
       "  <th>Condition_2</th>         <td> 9.163e+04</td> <td> 4.05e+04</td> <td>    2.263</td> <td> 0.024</td> <td> 1.23e+04</td> <td> 1.71e+05</td>\n",
       "</tr>\n",
       "<tr>\n",
       "  <th>Condition_3</th>         <td> 9.519e+04</td> <td> 3.76e+04</td> <td>    2.532</td> <td> 0.011</td> <td> 2.15e+04</td> <td> 1.69e+05</td>\n",
       "</tr>\n",
       "<tr>\n",
       "  <th>Condition_4</th>         <td>  1.34e+05</td> <td> 3.76e+04</td> <td>    3.561</td> <td> 0.000</td> <td> 6.02e+04</td> <td> 2.08e+05</td>\n",
       "</tr>\n",
       "<tr>\n",
       "  <th>Condition_5</th>         <td> 1.706e+05</td> <td> 3.78e+04</td> <td>    4.510</td> <td> 0.000</td> <td> 9.64e+04</td> <td> 2.45e+05</td>\n",
       "</tr>\n",
       "<tr>\n",
       "  <th>Grade_Above_Average</th> <td>   8.4e+04</td> <td> 3577.247</td> <td>   23.482</td> <td> 0.000</td> <td>  7.7e+04</td> <td>  9.1e+04</td>\n",
       "</tr>\n",
       "<tr>\n",
       "  <th>Grade_High_Quality</th>  <td> 3.483e+05</td> <td> 7370.554</td> <td>   47.261</td> <td> 0.000</td> <td> 3.34e+05</td> <td> 3.63e+05</td>\n",
       "</tr>\n",
       "<tr>\n",
       "  <th>second_chunk</th>        <td> -4.96e+04</td> <td> 5519.373</td> <td>   -8.987</td> <td> 0.000</td> <td>-6.04e+04</td> <td>-3.88e+04</td>\n",
       "</tr>\n",
       "<tr>\n",
       "  <th>third_chunk</th>         <td>-1.018e+05</td> <td> 5386.347</td> <td>  -18.904</td> <td> 0.000</td> <td>-1.12e+05</td> <td>-9.13e+04</td>\n",
       "</tr>\n",
       "<tr>\n",
       "  <th>fourth_chunk</th>        <td>-1.526e+05</td> <td> 6032.996</td> <td>  -25.299</td> <td> 0.000</td> <td>-1.64e+05</td> <td>-1.41e+05</td>\n",
       "</tr>\n",
       "<tr>\n",
       "  <th>fifth_chunk</th>         <td>-1.289e+05</td> <td> 6703.104</td> <td>  -19.231</td> <td> 0.000</td> <td>-1.42e+05</td> <td>-1.16e+05</td>\n",
       "</tr>\n",
       "<tr>\n",
       "  <th>renovation_10</th>       <td> 1.055e+05</td> <td> 1.21e+04</td> <td>    8.740</td> <td> 0.000</td> <td> 8.19e+04</td> <td> 1.29e+05</td>\n",
       "</tr>\n",
       "<tr>\n",
       "  <th>Section_2</th>           <td> 2517.5155</td> <td> 4439.462</td> <td>    0.567</td> <td> 0.571</td> <td>-6184.166</td> <td> 1.12e+04</td>\n",
       "</tr>\n",
       "<tr>\n",
       "  <th>Section_3</th>           <td> -1.27e+05</td> <td> 1.35e+04</td> <td>   -9.410</td> <td> 0.000</td> <td>-1.53e+05</td> <td>-1.01e+05</td>\n",
       "</tr>\n",
       "<tr>\n",
       "  <th>Section_4</th>           <td>-1.723e+05</td> <td> 4337.136</td> <td>  -39.726</td> <td> 0.000</td> <td>-1.81e+05</td> <td>-1.64e+05</td>\n",
       "</tr>\n",
       "<tr>\n",
       "  <th>Section_5</th>           <td>-1.503e+05</td> <td> 4527.107</td> <td>  -33.205</td> <td> 0.000</td> <td>-1.59e+05</td> <td>-1.41e+05</td>\n",
       "</tr>\n",
       "<tr>\n",
       "  <th>Section_6</th>           <td>-1.523e+05</td> <td> 8563.464</td> <td>  -17.786</td> <td> 0.000</td> <td>-1.69e+05</td> <td>-1.36e+05</td>\n",
       "</tr>\n",
       "<tr>\n",
       "  <th>Section_7</th>           <td>-2.711e+05</td> <td> 6526.108</td> <td>  -41.543</td> <td> 0.000</td> <td>-2.84e+05</td> <td>-2.58e+05</td>\n",
       "</tr>\n",
       "<tr>\n",
       "  <th>Section_8</th>           <td>-2.432e+05</td> <td> 6089.303</td> <td>  -39.945</td> <td> 0.000</td> <td>-2.55e+05</td> <td>-2.31e+05</td>\n",
       "</tr>\n",
       "<tr>\n",
       "  <th>Section_9</th>           <td>-2.093e+05</td> <td> 3.07e+04</td> <td>   -6.816</td> <td> 0.000</td> <td> -2.7e+05</td> <td>-1.49e+05</td>\n",
       "</tr>\n",
       "</table>\n",
       "<table class=\"simpletable\">\n",
       "<tr>\n",
       "  <th>Omnibus:</th>       <td>13935.853</td> <th>  Durbin-Watson:     </th>  <td>   2.007</td> \n",
       "</tr>\n",
       "<tr>\n",
       "  <th>Prob(Omnibus):</th>  <td> 0.000</td>   <th>  Jarque-Bera (JB):  </th> <td>667916.289</td>\n",
       "</tr>\n",
       "<tr>\n",
       "  <th>Skew:</th>           <td> 2.535</td>   <th>  Prob(JB):          </th>  <td>    0.00</td> \n",
       "</tr>\n",
       "<tr>\n",
       "  <th>Kurtosis:</th>       <td>29.960</td>   <th>  Cond. No.          </th>  <td>2.85e+06</td> \n",
       "</tr>\n",
       "</table><br/><br/>Notes:<br/>[1] Standard Errors assume that the covariance matrix of the errors is correctly specified.<br/>[2] The condition number is large, 2.85e+06. This might indicate that there are<br/>strong multicollinearity or other numerical problems."
      ],
      "text/plain": [
       "<class 'statsmodels.iolib.summary.Summary'>\n",
       "\"\"\"\n",
       "                            OLS Regression Results                            \n",
       "==============================================================================\n",
       "Dep. Variable:                  price   R-squared:                       0.714\n",
       "Model:                            OLS   Adj. R-squared:                  0.714\n",
       "Method:                 Least Squares   F-statistic:                     1330.\n",
       "Date:                Wed, 22 Sep 2021   Prob (F-statistic):               0.00\n",
       "Time:                        16:26:54   Log-Likelihood:            -2.8921e+05\n",
       "No. Observations:               21301   AIC:                         5.785e+05\n",
       "Df Residuals:                   21260   BIC:                         5.788e+05\n",
       "Df Model:                          40                                         \n",
       "Covariance Type:            nonrobust                                         \n",
       "=======================================================================================\n",
       "                          coef    std err          t      P>|t|      [0.025      0.975]\n",
       "---------------------------------------------------------------------------------------\n",
       "Intercept            1.936e+05   4.01e+04      4.834      0.000    1.15e+05    2.72e+05\n",
       "sqft_living           179.4467      2.821     63.613      0.000     173.918     184.976\n",
       "sqft_lot               -0.0553      0.034     -1.640      0.101      -0.121       0.011\n",
       "waterfront           5.073e+05   1.83e+04     27.680      0.000    4.71e+05    5.43e+05\n",
       "Season_Summer       -2.587e+04   3399.145     -7.611      0.000   -3.25e+04   -1.92e+04\n",
       "Season_Fall         -3.116e+04   3606.890     -8.640      0.000   -3.82e+04   -2.41e+04\n",
       "Season_Winter       -2.577e+04   3955.281     -6.515      0.000   -3.35e+04    -1.8e+04\n",
       "Bedrooms_2           6424.7294   1.57e+04      0.408      0.683   -2.44e+04    3.73e+04\n",
       "Bedrooms_3          -2588.2374   1.56e+04     -0.166      0.868   -3.32e+04     2.8e+04\n",
       "Bedrooms_4          -3.367e+04   1.59e+04     -2.113      0.035   -6.49e+04   -2442.601\n",
       "Bedrooms_5          -4.693e+04   1.67e+04     -2.809      0.005   -7.97e+04   -1.42e+04\n",
       "Bedrooms_6_up       -1.387e+05   1.95e+04     -7.118      0.000   -1.77e+05   -1.01e+05\n",
       "Bathrooms_2          -264.4666   3799.840     -0.070      0.945   -7712.441    7183.507\n",
       "Bathrooms_3          5.917e+04   6240.177      9.481      0.000    4.69e+04    7.14e+04\n",
       "Bathrooms_4          2.102e+05   1.27e+04     16.534      0.000    1.85e+05    2.35e+05\n",
       "Bathrooms_5_up       5.175e+05   2.72e+04     19.013      0.000    4.64e+05    5.71e+05\n",
       "Floors_2             1.313e+04   3952.466      3.322      0.001    5384.053    2.09e+04\n",
       "Floors_3             1.384e+04   9231.495      1.500      0.134   -4251.665    3.19e+04\n",
       "View_1               1.425e+05   1.08e+04     13.222      0.000    1.21e+05    1.64e+05\n",
       "View_2               9.035e+04   6535.761     13.824      0.000    7.75e+04    1.03e+05\n",
       "View_3               1.576e+05   8888.310     17.733      0.000     1.4e+05    1.75e+05\n",
       "View_4               3.276e+05   1.33e+04     24.661      0.000    3.02e+05    3.54e+05\n",
       "Condition_2          9.163e+04   4.05e+04      2.263      0.024    1.23e+04    1.71e+05\n",
       "Condition_3          9.519e+04   3.76e+04      2.532      0.011    2.15e+04    1.69e+05\n",
       "Condition_4           1.34e+05   3.76e+04      3.561      0.000    6.02e+04    2.08e+05\n",
       "Condition_5          1.706e+05   3.78e+04      4.510      0.000    9.64e+04    2.45e+05\n",
       "Grade_Above_Average    8.4e+04   3577.247     23.482      0.000     7.7e+04     9.1e+04\n",
       "Grade_High_Quality   3.483e+05   7370.554     47.261      0.000    3.34e+05    3.63e+05\n",
       "second_chunk         -4.96e+04   5519.373     -8.987      0.000   -6.04e+04   -3.88e+04\n",
       "third_chunk         -1.018e+05   5386.347    -18.904      0.000   -1.12e+05   -9.13e+04\n",
       "fourth_chunk        -1.526e+05   6032.996    -25.299      0.000   -1.64e+05   -1.41e+05\n",
       "fifth_chunk         -1.289e+05   6703.104    -19.231      0.000   -1.42e+05   -1.16e+05\n",
       "renovation_10        1.055e+05   1.21e+04      8.740      0.000    8.19e+04    1.29e+05\n",
       "Section_2            2517.5155   4439.462      0.567      0.571   -6184.166    1.12e+04\n",
       "Section_3            -1.27e+05   1.35e+04     -9.410      0.000   -1.53e+05   -1.01e+05\n",
       "Section_4           -1.723e+05   4337.136    -39.726      0.000   -1.81e+05   -1.64e+05\n",
       "Section_5           -1.503e+05   4527.107    -33.205      0.000   -1.59e+05   -1.41e+05\n",
       "Section_6           -1.523e+05   8563.464    -17.786      0.000   -1.69e+05   -1.36e+05\n",
       "Section_7           -2.711e+05   6526.108    -41.543      0.000   -2.84e+05   -2.58e+05\n",
       "Section_8           -2.432e+05   6089.303    -39.945      0.000   -2.55e+05   -2.31e+05\n",
       "Section_9           -2.093e+05   3.07e+04     -6.816      0.000    -2.7e+05   -1.49e+05\n",
       "==============================================================================\n",
       "Omnibus:                    13935.853   Durbin-Watson:                   2.007\n",
       "Prob(Omnibus):                  0.000   Jarque-Bera (JB):           667916.289\n",
       "Skew:                           2.535   Prob(JB):                         0.00\n",
       "Kurtosis:                      29.960   Cond. No.                     2.85e+06\n",
       "==============================================================================\n",
       "\n",
       "Notes:\n",
       "[1] Standard Errors assume that the covariance matrix of the errors is correctly specified.\n",
       "[2] The condition number is large, 2.85e+06. This might indicate that there are\n",
       "strong multicollinearity or other numerical problems.\n",
       "\"\"\""
      ]
     },
     "execution_count": 53,
     "metadata": {},
     "output_type": "execute_result"
    }
   ],
   "source": [
    "model_2 = ols(formula=formula, data=model_2_data).fit()\n",
    "model_2.summary()"
   ]
  },
  {
   "cell_type": "markdown",
   "metadata": {},
   "source": [
    "#### Assumption of Normality<br>&emsp;(for Model_2)"
   ]
  },
  {
   "cell_type": "code",
   "execution_count": 54,
   "metadata": {},
   "outputs": [
    {
     "data": {
      "image/png": "[encoded data removed]",
      "text/plain": [
       "<Figure size 432x288 with 1 Axes>"
      ]
     },
     "metadata": {
      "needs_background": "light"
     },
     "output_type": "display_data"
    }
   ],
   "source": [
    "residuals = model_2.resid\n",
    "fig = sm.graphics.qqplot(residuals, dist=stats.norm, fit=True, line='45', alpha=0.2)\n",
    "plt.title('Second Model', size=12);"
   ]
  },
  {
   "cell_type": "markdown",
   "metadata": {},
   "source": [
    "#### Assumption of Homoscedasticity<br>&emsp;(for Model_2)"
   ]
  },
  {
   "cell_type": "code",
   "execution_count": 55,
   "metadata": {},
   "outputs": [
    {
     "data": {
      "image/png": "[encoded data removed]",
      "text/plain": [
       "<Figure size 432x288 with 1 Axes>"
      ]
     },
     "metadata": {
      "needs_background": "light"
     },
     "output_type": "display_data"
    }
   ],
   "source": [
    "fig1,ax1 = plt.subplots()\n",
    "ax1.scatter(x=model_2.predict(), y=residuals, color='green', alpha=0.2)\n",
    "plt.title('Second Model', size=12);"
   ]
  },
  {
   "cell_type": "code",
   "execution_count": 56,
   "metadata": {},
   "outputs": [],
   "source": [
    "model_2_data.to_csv('data/model_2_data.csv', index=False)"
   ]
  }
 ],
 "metadata": {
  "kernelspec": {
   "display_name": "Python 3",
   "language": "python",
   "name": "python3"
  },
  "language_info": {
   "codemirror_mode": {
    "name": "ipython",
    "version": 3
   },
   "file_extension": ".py",
   "mimetype": "text/x-python",
   "name": "python",
   "nbconvert_exporter": "python",
   "pygments_lexer": "ipython3",
   "version": "3.8.5"
  }
 },
 "nbformat": 4,
 "nbformat_minor": 4
}
