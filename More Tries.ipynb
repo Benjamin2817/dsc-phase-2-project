{
 "cells": [
  {
   "cell_type": "code",
   "execution_count": 1,
   "metadata": {},
   "outputs": [],
   "source": [
    "import pandas as pd"
   ]
  },
  {
   "cell_type": "code",
   "execution_count": 14,
   "metadata": {},
   "outputs": [],
   "source": [
    "df = pd.read_clipboard(header=None, names=['Opp', 'Points'])"
   ]
  },
  {
   "cell_type": "code",
   "execution_count": 17,
   "metadata": {},
   "outputs": [
    {
     "data": {
      "text/plain": [
       "0      Jul\n",
       "1      Jul\n",
       "2      Jun\n",
       "3      Jun\n",
       "4      Jun\n",
       "5      Jun\n",
       "6      Jun\n",
       "7      May\n",
       "8      May\n",
       "9      May\n",
       "10     Apr\n",
       "11     Apr\n",
       "12     Apr\n",
       "13     Apr\n",
       "14     Apr\n",
       "15     Mil\n",
       "16    @Atl\n",
       "17     Phi\n",
       "18     Atl\n",
       "19     ChC\n",
       "Name: Opp, dtype: object"
      ]
     },
     "execution_count": 17,
     "metadata": {},
     "output_type": "execute_result"
    }
   ],
   "source": [
    "df.Opp[:20]"
   ]
  },
  {
   "cell_type": "code",
   "execution_count": null,
   "metadata": {},
   "outputs": [],
   "source": []
  }
 ],
 "metadata": {
  "kernelspec": {
   "display_name": "Python 3",
   "language": "python",
   "name": "python3"
  },
  "language_info": {
   "codemirror_mode": {
    "name": "ipython",
    "version": 3
   },
   "file_extension": ".py",
   "mimetype": "text/x-python",
   "name": "python",
   "nbconvert_exporter": "python",
   "pygments_lexer": "ipython3",
   "version": "3.8.5"
  }
 },
 "nbformat": 4,
 "nbformat_minor": 4
}
