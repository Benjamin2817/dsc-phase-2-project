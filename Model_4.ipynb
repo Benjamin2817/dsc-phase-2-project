{
 "cells": [
  {
   "cell_type": "code",
   "execution_count": 1,
   "metadata": {},
   "outputs": [],
   "source": [
    "from sklearn.linear_model import LinearRegression\n",
    "from sklearn.metrics import mean_squared_error\n",
    "from sklearn.model_selection import train_test_split\n",
    "from statsmodels.formula.api import ols\n",
    "\n",
    "import matplotlib.pyplot as plt\n",
    "import numpy as np\n",
    "import pandas as pd\n",
    "import scipy.stats as stats\n",
    "import seaborn as sns\n",
    "import statsmodels.api as sm"
   ]
  },
  {
   "cell_type": "code",
   "execution_count": 2,
   "metadata": {},
   "outputs": [],
   "source": [
    "model_4_data = pd.read_csv('data/model_3_data.csv')"
   ]
  },
  {
   "cell_type": "code",
   "execution_count": 3,
   "metadata": {},
   "outputs": [],
   "source": [
    "model_4_data.sqft_living = np.log(model_4_data.sqft_living)"
   ]
  },
  {
   "cell_type": "code",
   "execution_count": 4,
   "metadata": {},
   "outputs": [],
   "source": [
    "scaled_sqft_living = (model_4_data.sqft_living - min(model_4_data.sqft_living)) / (max(model_4_data.sqft_living) - min(model_4_data.sqft_living))\n",
    "model_4_data.sqft_living = scaled_sqft_living"
   ]
  },
  {
   "cell_type": "code",
   "execution_count": 5,
   "metadata": {},
   "outputs": [
    {
     "data": {
      "image/png": "[encoded data removed]",
      "text/plain": [
       "<Figure size 576x288 with 1 Axes>"
      ]
     },
     "metadata": {
      "needs_background": "light"
     },
     "output_type": "display_data"
    }
   ],
   "source": [
    "fig = plt.figure(figsize=(8,4))\n",
    "ax = fig.gca()\n",
    "model_4_data['sqft_living'].hist(ax=ax);"
   ]
  },
  {
   "cell_type": "code",
   "execution_count": 6,
   "metadata": {},
   "outputs": [],
   "source": [
    "model_4_data.sqft_lot = np.log(model_4_data.sqft_lot)"
   ]
  },
  {
   "cell_type": "code",
   "execution_count": 7,
   "metadata": {},
   "outputs": [],
   "source": [
    "scaled_sqft_lot = (model_4_data.sqft_lot - min(model_4_data.sqft_lot)) / (max(model_4_data.sqft_lot) - min(model_4_data.sqft_lot))\n",
    "model_4_data.sqft_lot = scaled_sqft_lot"
   ]
  },
  {
   "cell_type": "code",
   "execution_count": 8,
   "metadata": {},
   "outputs": [],
   "source": [
    "target_variable = 'price'\n",
    "input_variables = model_4_data.drop('price', axis=1).columns\n",
    "formula = target_variable + '~' + '+'.join(input_variables)"
   ]
  },
  {
   "cell_type": "code",
   "execution_count": 9,
   "metadata": {},
   "outputs": [
    {
     "data": {
      "text/html": [
       "<table class=\"simpletable\">\n",
       "<caption>OLS Regression Results</caption>\n",
       "<tr>\n",
       "  <th>Dep. Variable:</th>          <td>price</td>      <th>  R-squared:         </th>  <td>   0.686</td>  \n",
       "</tr>\n",
       "<tr>\n",
       "  <th>Model:</th>                   <td>OLS</td>       <th>  Adj. R-squared:    </th>  <td>   0.685</td>  \n",
       "</tr>\n",
       "<tr>\n",
       "  <th>Method:</th>             <td>Least Squares</td>  <th>  F-statistic:       </th>  <td>   980.4</td>  \n",
       "</tr>\n",
       "<tr>\n",
       "  <th>Date:</th>             <td>Tue, 21 Sep 2021</td> <th>  Prob (F-statistic):</th>   <td>  0.00</td>   \n",
       "</tr>\n",
       "<tr>\n",
       "  <th>Time:</th>                 <td>22:38:58</td>     <th>  Log-Likelihood:    </th> <td>-2.3511e+05</td>\n",
       "</tr>\n",
       "<tr>\n",
       "  <th>No. Observations:</th>      <td> 17991</td>      <th>  AIC:               </th>  <td>4.703e+05</td> \n",
       "</tr>\n",
       "<tr>\n",
       "  <th>Df Residuals:</th>          <td> 17950</td>      <th>  BIC:               </th>  <td>4.706e+05</td> \n",
       "</tr>\n",
       "<tr>\n",
       "  <th>Df Model:</th>              <td>    40</td>      <th>                     </th>      <td> </td>     \n",
       "</tr>\n",
       "<tr>\n",
       "  <th>Covariance Type:</th>      <td>nonrobust</td>    <th>                     </th>      <td> </td>     \n",
       "</tr>\n",
       "</table>\n",
       "<table class=\"simpletable\">\n",
       "<tr>\n",
       "           <td></td>              <th>coef</th>     <th>std err</th>      <th>t</th>      <th>P>|t|</th>  <th>[0.025</th>    <th>0.975]</th>  \n",
       "</tr>\n",
       "<tr>\n",
       "  <th>Intercept</th>           <td> 1.666e+05</td> <td> 2.75e+04</td> <td>    6.047</td> <td> 0.000</td> <td> 1.13e+05</td> <td> 2.21e+05</td>\n",
       "</tr>\n",
       "<tr>\n",
       "  <th>sqft_living</th>         <td> 6.761e+05</td> <td> 1.21e+04</td> <td>   55.828</td> <td> 0.000</td> <td> 6.52e+05</td> <td>    7e+05</td>\n",
       "</tr>\n",
       "<tr>\n",
       "  <th>sqft_lot</th>            <td>-3.233e+04</td> <td> 8110.668</td> <td>   -3.986</td> <td> 0.000</td> <td>-4.82e+04</td> <td>-1.64e+04</td>\n",
       "</tr>\n",
       "<tr>\n",
       "  <th>waterfront</th>          <td>  7.96e+04</td> <td> 2.09e+04</td> <td>    3.813</td> <td> 0.000</td> <td> 3.87e+04</td> <td> 1.21e+05</td>\n",
       "</tr>\n",
       "<tr>\n",
       "  <th>Season_Summer</th>       <td>-1.837e+04</td> <td> 2228.933</td> <td>   -8.241</td> <td> 0.000</td> <td>-2.27e+04</td> <td> -1.4e+04</td>\n",
       "</tr>\n",
       "<tr>\n",
       "  <th>Season_Fall</th>         <td>-2.384e+04</td> <td> 2359.956</td> <td>  -10.103</td> <td> 0.000</td> <td>-2.85e+04</td> <td>-1.92e+04</td>\n",
       "</tr>\n",
       "<tr>\n",
       "  <th>Season_Winter</th>       <td>-2.265e+04</td> <td> 2583.456</td> <td>   -8.768</td> <td> 0.000</td> <td>-2.77e+04</td> <td>-1.76e+04</td>\n",
       "</tr>\n",
       "<tr>\n",
       "  <th>Bedrooms_2</th>          <td> -1.34e+04</td> <td> 1.01e+04</td> <td>   -1.327</td> <td> 0.185</td> <td>-3.32e+04</td> <td> 6396.379</td>\n",
       "</tr>\n",
       "<tr>\n",
       "  <th>Bedrooms_3</th>          <td>-2.613e+04</td> <td> 1.01e+04</td> <td>   -2.575</td> <td> 0.010</td> <td> -4.6e+04</td> <td>-6241.229</td>\n",
       "</tr>\n",
       "<tr>\n",
       "  <th>Bedrooms_4</th>          <td>-3.184e+04</td> <td> 1.04e+04</td> <td>   -3.050</td> <td> 0.002</td> <td>-5.23e+04</td> <td>-1.14e+04</td>\n",
       "</tr>\n",
       "<tr>\n",
       "  <th>Bedrooms_5</th>          <td>-4.125e+04</td> <td>  1.1e+04</td> <td>   -3.740</td> <td> 0.000</td> <td>-6.29e+04</td> <td>-1.96e+04</td>\n",
       "</tr>\n",
       "<tr>\n",
       "  <th>Bedrooms_6_up</th>       <td>-6.317e+04</td> <td> 1.32e+04</td> <td>   -4.790</td> <td> 0.000</td> <td> -8.9e+04</td> <td>-3.73e+04</td>\n",
       "</tr>\n",
       "<tr>\n",
       "  <th>Bathrooms_2</th>         <td>  814.9536</td> <td> 2493.702</td> <td>    0.327</td> <td> 0.744</td> <td>-4072.943</td> <td> 5702.850</td>\n",
       "</tr>\n",
       "<tr>\n",
       "  <th>Bathrooms_3</th>         <td>  3.84e+04</td> <td> 4227.295</td> <td>    9.085</td> <td> 0.000</td> <td> 3.01e+04</td> <td> 4.67e+04</td>\n",
       "</tr>\n",
       "<tr>\n",
       "  <th>Bathrooms_4</th>         <td> 6.825e+04</td> <td> 1.13e+04</td> <td>    6.033</td> <td> 0.000</td> <td> 4.61e+04</td> <td> 9.04e+04</td>\n",
       "</tr>\n",
       "<tr>\n",
       "  <th>Bathrooms_5_up</th>      <td>-1.178e+04</td> <td> 3.39e+04</td> <td>   -0.348</td> <td> 0.728</td> <td>-7.82e+04</td> <td> 5.46e+04</td>\n",
       "</tr>\n",
       "<tr>\n",
       "  <th>Floors_2</th>            <td> 1.427e+04</td> <td> 2770.023</td> <td>    5.151</td> <td> 0.000</td> <td> 8837.790</td> <td> 1.97e+04</td>\n",
       "</tr>\n",
       "<tr>\n",
       "  <th>Floors_3</th>            <td>-8696.1614</td> <td> 6214.333</td> <td>   -1.399</td> <td> 0.162</td> <td>-2.09e+04</td> <td> 3484.528</td>\n",
       "</tr>\n",
       "<tr>\n",
       "  <th>View_1</th>              <td>  9.36e+04</td> <td> 7455.080</td> <td>   12.555</td> <td> 0.000</td> <td>  7.9e+04</td> <td> 1.08e+05</td>\n",
       "</tr>\n",
       "<tr>\n",
       "  <th>View_2</th>              <td> 7.873e+04</td> <td> 4597.051</td> <td>   17.126</td> <td> 0.000</td> <td> 6.97e+04</td> <td> 8.77e+04</td>\n",
       "</tr>\n",
       "<tr>\n",
       "  <th>View_3</th>              <td> 1.089e+05</td> <td> 7306.829</td> <td>   14.910</td> <td> 0.000</td> <td> 9.46e+04</td> <td> 1.23e+05</td>\n",
       "</tr>\n",
       "<tr>\n",
       "  <th>View_4</th>              <td> 2.182e+05</td> <td> 1.23e+04</td> <td>   17.782</td> <td> 0.000</td> <td> 1.94e+05</td> <td> 2.42e+05</td>\n",
       "</tr>\n",
       "<tr>\n",
       "  <th>Condition_2</th>         <td> 8.406e+04</td> <td> 2.77e+04</td> <td>    3.029</td> <td> 0.002</td> <td> 2.97e+04</td> <td> 1.38e+05</td>\n",
       "</tr>\n",
       "<tr>\n",
       "  <th>Condition_3</th>         <td> 1.056e+05</td> <td> 2.58e+04</td> <td>    4.091</td> <td> 0.000</td> <td>  5.5e+04</td> <td> 1.56e+05</td>\n",
       "</tr>\n",
       "<tr>\n",
       "  <th>Condition_4</th>         <td> 1.338e+05</td> <td> 2.58e+04</td> <td>    5.179</td> <td> 0.000</td> <td> 8.32e+04</td> <td> 1.84e+05</td>\n",
       "</tr>\n",
       "<tr>\n",
       "  <th>Condition_5</th>         <td> 1.613e+05</td> <td>  2.6e+04</td> <td>    6.212</td> <td> 0.000</td> <td>  1.1e+05</td> <td> 2.12e+05</td>\n",
       "</tr>\n",
       "<tr>\n",
       "  <th>Grade_Above_Average</th> <td> 9.653e+04</td> <td> 2308.433</td> <td>   41.815</td> <td> 0.000</td> <td>  9.2e+04</td> <td> 1.01e+05</td>\n",
       "</tr>\n",
       "<tr>\n",
       "  <th>Grade_High_Quality</th>  <td> 2.537e+05</td> <td> 5654.768</td> <td>   44.859</td> <td> 0.000</td> <td> 2.43e+05</td> <td> 2.65e+05</td>\n",
       "</tr>\n",
       "<tr>\n",
       "  <th>second_chunk</th>        <td> -4.43e+04</td> <td> 3555.436</td> <td>  -12.460</td> <td> 0.000</td> <td>-5.13e+04</td> <td>-3.73e+04</td>\n",
       "</tr>\n",
       "<tr>\n",
       "  <th>third_chunk</th>         <td>-9.644e+04</td> <td> 3505.659</td> <td>  -27.511</td> <td> 0.000</td> <td>-1.03e+05</td> <td>-8.96e+04</td>\n",
       "</tr>\n",
       "<tr>\n",
       "  <th>fourth_chunk</th>        <td>-1.228e+05</td> <td> 3959.943</td> <td>  -31.006</td> <td> 0.000</td> <td>-1.31e+05</td> <td>-1.15e+05</td>\n",
       "</tr>\n",
       "<tr>\n",
       "  <th>fifth_chunk</th>         <td>-1.098e+05</td> <td> 4466.221</td> <td>  -24.588</td> <td> 0.000</td> <td>-1.19e+05</td> <td>-1.01e+05</td>\n",
       "</tr>\n",
       "<tr>\n",
       "  <th>renovation_10</th>       <td> 6.834e+04</td> <td> 8161.796</td> <td>    8.374</td> <td> 0.000</td> <td> 5.23e+04</td> <td> 8.43e+04</td>\n",
       "</tr>\n",
       "<tr>\n",
       "  <th>Section_2</th>           <td> 1.483e+04</td> <td> 3084.593</td> <td>    4.809</td> <td> 0.000</td> <td> 8788.544</td> <td> 2.09e+04</td>\n",
       "</tr>\n",
       "<tr>\n",
       "  <th>Section_3</th>           <td>-1.088e+05</td> <td> 1.25e+04</td> <td>   -8.705</td> <td> 0.000</td> <td>-1.33e+05</td> <td>-8.43e+04</td>\n",
       "</tr>\n",
       "<tr>\n",
       "  <th>Section_4</th>           <td>-1.361e+05</td> <td> 2754.704</td> <td>  -49.424</td> <td> 0.000</td> <td>-1.42e+05</td> <td>-1.31e+05</td>\n",
       "</tr>\n",
       "<tr>\n",
       "  <th>Section_5</th>           <td> -1.23e+05</td> <td> 3087.444</td> <td>  -39.830</td> <td> 0.000</td> <td>-1.29e+05</td> <td>-1.17e+05</td>\n",
       "</tr>\n",
       "<tr>\n",
       "  <th>Section_6</th>           <td>-1.054e+05</td> <td> 6091.434</td> <td>  -17.303</td> <td> 0.000</td> <td>-1.17e+05</td> <td>-9.35e+04</td>\n",
       "</tr>\n",
       "<tr>\n",
       "  <th>Section_7</th>           <td>-2.346e+05</td> <td> 4312.687</td> <td>  -54.399</td> <td> 0.000</td> <td>-2.43e+05</td> <td>-2.26e+05</td>\n",
       "</tr>\n",
       "<tr>\n",
       "  <th>Section_8</th>           <td>-2.196e+05</td> <td> 4142.731</td> <td>  -53.016</td> <td> 0.000</td> <td>-2.28e+05</td> <td>-2.12e+05</td>\n",
       "</tr>\n",
       "<tr>\n",
       "  <th>Section_9</th>           <td>-2.803e+05</td> <td> 8.12e+04</td> <td>   -3.450</td> <td> 0.001</td> <td> -4.4e+05</td> <td>-1.21e+05</td>\n",
       "</tr>\n",
       "</table>\n",
       "<table class=\"simpletable\">\n",
       "<tr>\n",
       "  <th>Omnibus:</th>       <td>1782.967</td> <th>  Durbin-Watson:     </th> <td>   2.002</td>\n",
       "</tr>\n",
       "<tr>\n",
       "  <th>Prob(Omnibus):</th>  <td> 0.000</td>  <th>  Jarque-Bera (JB):  </th> <td>3150.944</td>\n",
       "</tr>\n",
       "<tr>\n",
       "  <th>Skew:</th>           <td> 0.691</td>  <th>  Prob(JB):          </th> <td>    0.00</td>\n",
       "</tr>\n",
       "<tr>\n",
       "  <th>Kurtosis:</th>       <td> 4.515</td>  <th>  Cond. No.          </th> <td>    185.</td>\n",
       "</tr>\n",
       "</table><br/><br/>Notes:<br/>[1] Standard Errors assume that the covariance matrix of the errors is correctly specified."
      ],
      "text/plain": [
       "<class 'statsmodels.iolib.summary.Summary'>\n",
       "\"\"\"\n",
       "                            OLS Regression Results                            \n",
       "==============================================================================\n",
       "Dep. Variable:                  price   R-squared:                       0.686\n",
       "Model:                            OLS   Adj. R-squared:                  0.685\n",
       "Method:                 Least Squares   F-statistic:                     980.4\n",
       "Date:                Tue, 21 Sep 2021   Prob (F-statistic):               0.00\n",
       "Time:                        22:38:58   Log-Likelihood:            -2.3511e+05\n",
       "No. Observations:               17991   AIC:                         4.703e+05\n",
       "Df Residuals:                   17950   BIC:                         4.706e+05\n",
       "Df Model:                          40                                         \n",
       "Covariance Type:            nonrobust                                         \n",
       "=======================================================================================\n",
       "                          coef    std err          t      P>|t|      [0.025      0.975]\n",
       "---------------------------------------------------------------------------------------\n",
       "Intercept            1.666e+05   2.75e+04      6.047      0.000    1.13e+05    2.21e+05\n",
       "sqft_living          6.761e+05   1.21e+04     55.828      0.000    6.52e+05       7e+05\n",
       "sqft_lot            -3.233e+04   8110.668     -3.986      0.000   -4.82e+04   -1.64e+04\n",
       "waterfront            7.96e+04   2.09e+04      3.813      0.000    3.87e+04    1.21e+05\n",
       "Season_Summer       -1.837e+04   2228.933     -8.241      0.000   -2.27e+04    -1.4e+04\n",
       "Season_Fall         -2.384e+04   2359.956    -10.103      0.000   -2.85e+04   -1.92e+04\n",
       "Season_Winter       -2.265e+04   2583.456     -8.768      0.000   -2.77e+04   -1.76e+04\n",
       "Bedrooms_2           -1.34e+04   1.01e+04     -1.327      0.185   -3.32e+04    6396.379\n",
       "Bedrooms_3          -2.613e+04   1.01e+04     -2.575      0.010    -4.6e+04   -6241.229\n",
       "Bedrooms_4          -3.184e+04   1.04e+04     -3.050      0.002   -5.23e+04   -1.14e+04\n",
       "Bedrooms_5          -4.125e+04    1.1e+04     -3.740      0.000   -6.29e+04   -1.96e+04\n",
       "Bedrooms_6_up       -6.317e+04   1.32e+04     -4.790      0.000    -8.9e+04   -3.73e+04\n",
       "Bathrooms_2           814.9536   2493.702      0.327      0.744   -4072.943    5702.850\n",
       "Bathrooms_3           3.84e+04   4227.295      9.085      0.000    3.01e+04    4.67e+04\n",
       "Bathrooms_4          6.825e+04   1.13e+04      6.033      0.000    4.61e+04    9.04e+04\n",
       "Bathrooms_5_up      -1.178e+04   3.39e+04     -0.348      0.728   -7.82e+04    5.46e+04\n",
       "Floors_2             1.427e+04   2770.023      5.151      0.000    8837.790    1.97e+04\n",
       "Floors_3            -8696.1614   6214.333     -1.399      0.162   -2.09e+04    3484.528\n",
       "View_1                9.36e+04   7455.080     12.555      0.000     7.9e+04    1.08e+05\n",
       "View_2               7.873e+04   4597.051     17.126      0.000    6.97e+04    8.77e+04\n",
       "View_3               1.089e+05   7306.829     14.910      0.000    9.46e+04    1.23e+05\n",
       "View_4               2.182e+05   1.23e+04     17.782      0.000    1.94e+05    2.42e+05\n",
       "Condition_2          8.406e+04   2.77e+04      3.029      0.002    2.97e+04    1.38e+05\n",
       "Condition_3          1.056e+05   2.58e+04      4.091      0.000     5.5e+04    1.56e+05\n",
       "Condition_4          1.338e+05   2.58e+04      5.179      0.000    8.32e+04    1.84e+05\n",
       "Condition_5          1.613e+05    2.6e+04      6.212      0.000     1.1e+05    2.12e+05\n",
       "Grade_Above_Average  9.653e+04   2308.433     41.815      0.000     9.2e+04    1.01e+05\n",
       "Grade_High_Quality   2.537e+05   5654.768     44.859      0.000    2.43e+05    2.65e+05\n",
       "second_chunk         -4.43e+04   3555.436    -12.460      0.000   -5.13e+04   -3.73e+04\n",
       "third_chunk         -9.644e+04   3505.659    -27.511      0.000   -1.03e+05   -8.96e+04\n",
       "fourth_chunk        -1.228e+05   3959.943    -31.006      0.000   -1.31e+05   -1.15e+05\n",
       "fifth_chunk         -1.098e+05   4466.221    -24.588      0.000   -1.19e+05   -1.01e+05\n",
       "renovation_10        6.834e+04   8161.796      8.374      0.000    5.23e+04    8.43e+04\n",
       "Section_2            1.483e+04   3084.593      4.809      0.000    8788.544    2.09e+04\n",
       "Section_3           -1.088e+05   1.25e+04     -8.705      0.000   -1.33e+05   -8.43e+04\n",
       "Section_4           -1.361e+05   2754.704    -49.424      0.000   -1.42e+05   -1.31e+05\n",
       "Section_5            -1.23e+05   3087.444    -39.830      0.000   -1.29e+05   -1.17e+05\n",
       "Section_6           -1.054e+05   6091.434    -17.303      0.000   -1.17e+05   -9.35e+04\n",
       "Section_7           -2.346e+05   4312.687    -54.399      0.000   -2.43e+05   -2.26e+05\n",
       "Section_8           -2.196e+05   4142.731    -53.016      0.000   -2.28e+05   -2.12e+05\n",
       "Section_9           -2.803e+05   8.12e+04     -3.450      0.001    -4.4e+05   -1.21e+05\n",
       "==============================================================================\n",
       "Omnibus:                     1782.967   Durbin-Watson:                   2.002\n",
       "Prob(Omnibus):                  0.000   Jarque-Bera (JB):             3150.944\n",
       "Skew:                           0.691   Prob(JB):                         0.00\n",
       "Kurtosis:                       4.515   Cond. No.                         185.\n",
       "==============================================================================\n",
       "\n",
       "Notes:\n",
       "[1] Standard Errors assume that the covariance matrix of the errors is correctly specified.\n",
       "\"\"\""
      ]
     },
     "execution_count": 9,
     "metadata": {},
     "output_type": "execute_result"
    }
   ],
   "source": [
    "model_4 = ols(formula=formula, data=model_4_data).fit()\n",
    "model_4.summary()"
   ]
  },
  {
   "cell_type": "code",
   "execution_count": 10,
   "metadata": {},
   "outputs": [
    {
     "data": {
      "image/png": "[encoded data removed]",
      "text/plain": [
       "<Figure size 432x288 with 1 Axes>"
      ]
     },
     "metadata": {
      "needs_background": "light"
     },
     "output_type": "display_data"
    }
   ],
   "source": [
    "residuals = model_4.resid\n",
    "fig = sm.graphics.qqplot(residuals, dist=stats.norm, fit=True, line='45', alpha=0.2)\n",
    "plt.title('Fourth Model', size=12);"
   ]
  },
  {
   "cell_type": "code",
   "execution_count": 11,
   "metadata": {},
   "outputs": [],
   "source": [
    "x_data = model_4_data.drop(['price'], axis=1)\n",
    "y_data = model_4_data.price"
   ]
  },
  {
   "cell_type": "code",
   "execution_count": 12,
   "metadata": {},
   "outputs": [],
   "source": [
    "X_train, X_test, Y_train, Y_test = train_test_split(x_data, y_data, test_size=0.3, random_state=42)"
   ]
  },
  {
   "cell_type": "code",
   "execution_count": 13,
   "metadata": {},
   "outputs": [],
   "source": [
    "linreg = LinearRegression()\n",
    "linreg.fit(X_train, Y_train)\n",
    "\n",
    "y_estimate_train = linreg.predict(X_train)\n",
    "y_estimate_test = linreg.predict(X_test)"
   ]
  },
  {
   "cell_type": "code",
   "execution_count": 14,
   "metadata": {},
   "outputs": [
    {
     "name": "stdout",
     "output_type": "stream",
     "text": [
      "114948.9405563393 113935.58987575813\n"
     ]
    }
   ],
   "source": [
    "train_rmse = mean_squared_error(Y_train, y_estimate_train, squared=False)\n",
    "test_rmse = mean_squared_error(Y_test, y_estimate_test, squared=False)\n",
    "print(train_rmse, test_rmse)"
   ]
  },
  {
   "cell_type": "code",
   "execution_count": 15,
   "metadata": {},
   "outputs": [],
   "source": [
    "model_4_data.to_csv('data/model_4_data.csv', index=False)"
   ]
  }
 ],
 "metadata": {
  "kernelspec": {
   "display_name": "Python 3",
   "language": "python",
   "name": "python3"
  },
  "language_info": {
   "codemirror_mode": {
    "name": "ipython",
    "version": 3
   },
   "file_extension": ".py",
   "mimetype": "text/x-python",
   "name": "python",
   "nbconvert_exporter": "python",
   "pygments_lexer": "ipython3",
   "version": "3.8.5"
  }
 },
 "nbformat": 4,
 "nbformat_minor": 4
}
